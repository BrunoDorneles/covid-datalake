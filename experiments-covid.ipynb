{
 "cells": [
  {
   "cell_type": "markdown",
   "metadata": {},
   "source": [
    "## Ingestão Contínua de dados em Data Lake com Glue e visualização em dashboard no QuickSight   "
   ]
  },
  {
   "cell_type": "markdown",
   "metadata": {},
   "source": [
    "### Pré-requisitos   \n",
    "Antes de iniciar, é importante ressaltar a necessidade de criar uma conta na AWS. A amazon oferece um [plano gratuito](https://aws.amazon.com/pt/free/?all-free-tier.sort-by=item.additionalFields.SortRank&all-free-tier.sort-order=asc&awsm.page-all-free-tier=5), onde você terá acesso a todos serviços que iremos utilizar durante o projeto sem pagar nada. Além disso, podemos interagir com a plataforma da AWS de diferentes formas, por meio do [Console Web](https://aws.amazon.com/pt/console/), via [AWS Cli](https://aws.amazon.com/pt/cli/) ou via [API](https://boto3.amazonaws.com/v1/documentation/api/latest/index.html).  \n",
    "\n",
    "Com sua conta em mãos, vamos em frente ao infinito e além!🚀"
   ]
  },
  {
   "cell_type": "markdown",
   "metadata": {},
   "source": [
    "# Arquitetura\n",
    "![](img/arquitetura.jpg)"
   ]
  },
  {
   "cell_type": "markdown",
   "metadata": {},
   "source": [
    "## Base de dados : [COVID19-BR](https://github.com/wcota/covid19br)  \n",
    "Iremos utilizar o dataset mantido pelo [Wesley Cota](https://wesleycota.com) com atualizações diárias de números relacionados à COVID-19 no Brasil. Há dados referentes aos suspeitos e vacinados (primeira e segunda dose), novos casos e mortes confirmadas, recuperados e testes realizados. Para descrição completa dos dados, acesse [Descrição dos dados e utilização](https://github.com/wcota/covid19br/blob/master/DESCRIPTION.md)."
   ]
  },
  {
   "cell_type": "markdown",
   "metadata": {},
   "source": [
    "* ### cases-brazil-total.csv: Dados nacionais de COVID-19;"
   ]
  },
  {
   "cell_type": "code",
   "execution_count": 5,
   "metadata": {},
   "outputs": [],
   "source": [
    "import pandas as pd"
   ]
  },
  {
   "cell_type": "code",
   "execution_count": 6,
   "metadata": {},
   "outputs": [],
   "source": [
    "cases_brazil_total = pd.read_csv(\"https://raw.githubusercontent.com/wcota/covid19br/master/cases-brazil-total.csv\")"
   ]
  },
  {
   "cell_type": "code",
   "execution_count": 79,
   "metadata": {},
   "outputs": [
    {
     "data": {
      "text/plain": [
       "Index(['country', 'state', 'totalCases', 'totalCasesMS', 'notConfirmedByMS',\n",
       "       'deaths', 'deathsMS', 'URL', 'deaths_per_100k_inhabitants',\n",
       "       'totalCases_per_100k_inhabitants', 'deaths_by_totalCases', 'recovered',\n",
       "       'suspects', 'tests', 'tests_per_100k_inhabitants', 'vaccinated',\n",
       "       'vaccinated_per_100k_inhabitants', 'vaccinated_second',\n",
       "       'vaccinated_second_per_100k_inhabitants', 'date', 'newCases',\n",
       "       'newDeaths'],\n",
       "      dtype='object')"
      ]
     },
     "execution_count": 79,
     "metadata": {},
     "output_type": "execute_result"
    }
   ],
   "source": [
    "cases_brazil_total.columns"
   ]
  },
  {
   "cell_type": "code",
   "execution_count": 80,
   "metadata": {},
   "outputs": [
    {
     "data": {
      "text/html": [
       "<div>\n",
       "<style scoped>\n",
       "    .dataframe tbody tr th:only-of-type {\n",
       "        vertical-align: middle;\n",
       "    }\n",
       "\n",
       "    .dataframe tbody tr th {\n",
       "        vertical-align: top;\n",
       "    }\n",
       "\n",
       "    .dataframe thead th {\n",
       "        text-align: right;\n",
       "    }\n",
       "</style>\n",
       "<table border=\"1\" class=\"dataframe\">\n",
       "  <thead>\n",
       "    <tr style=\"text-align: right;\">\n",
       "      <th></th>\n",
       "      <th>country</th>\n",
       "      <th>state</th>\n",
       "      <th>totalCases</th>\n",
       "      <th>totalCasesMS</th>\n",
       "      <th>notConfirmedByMS</th>\n",
       "      <th>deaths</th>\n",
       "      <th>deathsMS</th>\n",
       "      <th>URL</th>\n",
       "      <th>deaths_per_100k_inhabitants</th>\n",
       "      <th>totalCases_per_100k_inhabitants</th>\n",
       "      <th>...</th>\n",
       "      <th>suspects</th>\n",
       "      <th>tests</th>\n",
       "      <th>tests_per_100k_inhabitants</th>\n",
       "      <th>vaccinated</th>\n",
       "      <th>vaccinated_per_100k_inhabitants</th>\n",
       "      <th>vaccinated_second</th>\n",
       "      <th>vaccinated_second_per_100k_inhabitants</th>\n",
       "      <th>date</th>\n",
       "      <th>newCases</th>\n",
       "      <th>newDeaths</th>\n",
       "    </tr>\n",
       "  </thead>\n",
       "  <tbody>\n",
       "    <tr>\n",
       "      <th>0</th>\n",
       "      <td>Brazil</td>\n",
       "      <td>TOTAL</td>\n",
       "      <td>12577643</td>\n",
       "      <td>12573615</td>\n",
       "      <td>4028</td>\n",
       "      <td>314059</td>\n",
       "      <td>313866</td>\n",
       "      <td>https://covid.saude.gov.br/</td>\n",
       "      <td>148.31195</td>\n",
       "      <td>5939.69535</td>\n",
       "      <td>...</td>\n",
       "      <td>5430111</td>\n",
       "      <td>41904799</td>\n",
       "      <td>19789.21964</td>\n",
       "      <td>16235182</td>\n",
       "      <td>7666.94007</td>\n",
       "      <td>4812503</td>\n",
       "      <td>2272.66760</td>\n",
       "      <td>2021-03-29</td>\n",
       "      <td>35429</td>\n",
       "      <td>1615</td>\n",
       "    </tr>\n",
       "    <tr>\n",
       "      <th>1</th>\n",
       "      <td>Brazil</td>\n",
       "      <td>AC</td>\n",
       "      <td>68905</td>\n",
       "      <td>68905</td>\n",
       "      <td>0</td>\n",
       "      <td>1240</td>\n",
       "      <td>1240</td>\n",
       "      <td>http://saude.acre.gov.br/</td>\n",
       "      <td>140.59993</td>\n",
       "      <td>7812.93406</td>\n",
       "      <td>...</td>\n",
       "      <td>42505</td>\n",
       "      <td>181661</td>\n",
       "      <td>20598.00325</td>\n",
       "      <td>46155</td>\n",
       "      <td>5233.37888</td>\n",
       "      <td>11752</td>\n",
       "      <td>1332.52451</td>\n",
       "      <td>2021-03-29</td>\n",
       "      <td>163</td>\n",
       "      <td>6</td>\n",
       "    </tr>\n",
       "    <tr>\n",
       "      <th>2</th>\n",
       "      <td>Brazil</td>\n",
       "      <td>AL</td>\n",
       "      <td>152210</td>\n",
       "      <td>152210</td>\n",
       "      <td>0</td>\n",
       "      <td>3511</td>\n",
       "      <td>3511</td>\n",
       "      <td>http://cidadao.saude.al.gov.br/</td>\n",
       "      <td>105.20301</td>\n",
       "      <td>4560.79466</td>\n",
       "      <td>...</td>\n",
       "      <td>10071</td>\n",
       "      <td>368601</td>\n",
       "      <td>11044.69795</td>\n",
       "      <td>224377</td>\n",
       "      <td>6723.19443</td>\n",
       "      <td>56243</td>\n",
       "      <td>1685.25573</td>\n",
       "      <td>2021-03-29</td>\n",
       "      <td>386</td>\n",
       "      <td>22</td>\n",
       "    </tr>\n",
       "    <tr>\n",
       "      <th>3</th>\n",
       "      <td>Brazil</td>\n",
       "      <td>AM</td>\n",
       "      <td>346320</td>\n",
       "      <td>346320</td>\n",
       "      <td>0</td>\n",
       "      <td>11974</td>\n",
       "      <td>11974</td>\n",
       "      <td>http://www.amazonas.am.gov.br/</td>\n",
       "      <td>288.90626</td>\n",
       "      <td>8355.93907</td>\n",
       "      <td>...</td>\n",
       "      <td>425</td>\n",
       "      <td>852071</td>\n",
       "      <td>20558.59713</td>\n",
       "      <td>416051</td>\n",
       "      <td>10038.39457</td>\n",
       "      <td>125340</td>\n",
       "      <td>3024.17823</td>\n",
       "      <td>2021-03-29</td>\n",
       "      <td>510</td>\n",
       "      <td>22</td>\n",
       "    </tr>\n",
       "    <tr>\n",
       "      <th>4</th>\n",
       "      <td>Brazil</td>\n",
       "      <td>AP</td>\n",
       "      <td>96199</td>\n",
       "      <td>96199</td>\n",
       "      <td>0</td>\n",
       "      <td>1279</td>\n",
       "      <td>1279</td>\n",
       "      <td>https://saude.portal.ap.gov.br/</td>\n",
       "      <td>151.23012</td>\n",
       "      <td>11374.65695</td>\n",
       "      <td>...</td>\n",
       "      <td>2990</td>\n",
       "      <td>166052</td>\n",
       "      <td>19634.13899</td>\n",
       "      <td>49368</td>\n",
       "      <td>5837.31707</td>\n",
       "      <td>16235</td>\n",
       "      <td>1919.64112</td>\n",
       "      <td>2021-03-29</td>\n",
       "      <td>550</td>\n",
       "      <td>11</td>\n",
       "    </tr>\n",
       "  </tbody>\n",
       "</table>\n",
       "<p>5 rows × 22 columns</p>\n",
       "</div>"
      ],
      "text/plain": [
       "  country  state  totalCases  totalCasesMS  notConfirmedByMS  deaths  \\\n",
       "0  Brazil  TOTAL    12577643      12573615              4028  314059   \n",
       "1  Brazil     AC       68905         68905                 0    1240   \n",
       "2  Brazil     AL      152210        152210                 0    3511   \n",
       "3  Brazil     AM      346320        346320                 0   11974   \n",
       "4  Brazil     AP       96199         96199                 0    1279   \n",
       "\n",
       "   deathsMS                              URL  deaths_per_100k_inhabitants  \\\n",
       "0    313866      https://covid.saude.gov.br/                    148.31195   \n",
       "1      1240        http://saude.acre.gov.br/                    140.59993   \n",
       "2      3511  http://cidadao.saude.al.gov.br/                    105.20301   \n",
       "3     11974   http://www.amazonas.am.gov.br/                    288.90626   \n",
       "4      1279  https://saude.portal.ap.gov.br/                    151.23012   \n",
       "\n",
       "   totalCases_per_100k_inhabitants  ...  suspects     tests  \\\n",
       "0                       5939.69535  ...   5430111  41904799   \n",
       "1                       7812.93406  ...     42505    181661   \n",
       "2                       4560.79466  ...     10071    368601   \n",
       "3                       8355.93907  ...       425    852071   \n",
       "4                      11374.65695  ...      2990    166052   \n",
       "\n",
       "   tests_per_100k_inhabitants  vaccinated  vaccinated_per_100k_inhabitants  \\\n",
       "0                 19789.21964    16235182                       7666.94007   \n",
       "1                 20598.00325       46155                       5233.37888   \n",
       "2                 11044.69795      224377                       6723.19443   \n",
       "3                 20558.59713      416051                      10038.39457   \n",
       "4                 19634.13899       49368                       5837.31707   \n",
       "\n",
       "   vaccinated_second  vaccinated_second_per_100k_inhabitants        date  \\\n",
       "0            4812503                              2272.66760  2021-03-29   \n",
       "1              11752                              1332.52451  2021-03-29   \n",
       "2              56243                              1685.25573  2021-03-29   \n",
       "3             125340                              3024.17823  2021-03-29   \n",
       "4              16235                              1919.64112  2021-03-29   \n",
       "\n",
       "   newCases newDeaths  \n",
       "0     35429      1615  \n",
       "1       163         6  \n",
       "2       386        22  \n",
       "3       510        22  \n",
       "4       550        11  \n",
       "\n",
       "[5 rows x 22 columns]"
      ]
     },
     "execution_count": 80,
     "metadata": {},
     "output_type": "execute_result"
    }
   ],
   "source": [
    "cases_brazil_total.head()"
   ]
  },
  {
   "cell_type": "markdown",
   "metadata": {},
   "source": [
    " * ### cases-brazil-cities.csv: Dados municipais de COVID-19;  "
   ]
  },
  {
   "cell_type": "code",
   "execution_count": 81,
   "metadata": {},
   "outputs": [],
   "source": [
    "cases_brazil_cities = pd.read_csv(\"https://raw.githubusercontent.com/wcota/covid19br/master/cases-brazil-cities.csv\")"
   ]
  },
  {
   "cell_type": "code",
   "execution_count": 82,
   "metadata": {},
   "outputs": [
    {
     "data": {
      "text/plain": [
       "Index(['country', 'state', 'city', 'ibgeID', 'cod_RegiaoDeSaude',\n",
       "       'name_RegiaoDeSaude', 'deaths', 'totalCases',\n",
       "       'deaths_per_100k_inhabitants', 'totalCases_per_100k_inhabitants',\n",
       "       'deaths_by_totalCases', '_source', 'date', 'newCases', 'newDeaths',\n",
       "       'last_info_date'],\n",
       "      dtype='object')"
      ]
     },
     "execution_count": 82,
     "metadata": {},
     "output_type": "execute_result"
    }
   ],
   "source": [
    "cases_brazil_cities.columns"
   ]
  },
  {
   "cell_type": "code",
   "execution_count": 83,
   "metadata": {},
   "outputs": [
    {
     "data": {
      "text/html": [
       "<div>\n",
       "<style scoped>\n",
       "    .dataframe tbody tr th:only-of-type {\n",
       "        vertical-align: middle;\n",
       "    }\n",
       "\n",
       "    .dataframe tbody tr th {\n",
       "        vertical-align: top;\n",
       "    }\n",
       "\n",
       "    .dataframe thead th {\n",
       "        text-align: right;\n",
       "    }\n",
       "</style>\n",
       "<table border=\"1\" class=\"dataframe\">\n",
       "  <thead>\n",
       "    <tr style=\"text-align: right;\">\n",
       "      <th></th>\n",
       "      <th>country</th>\n",
       "      <th>state</th>\n",
       "      <th>city</th>\n",
       "      <th>ibgeID</th>\n",
       "      <th>cod_RegiaoDeSaude</th>\n",
       "      <th>name_RegiaoDeSaude</th>\n",
       "      <th>deaths</th>\n",
       "      <th>totalCases</th>\n",
       "      <th>deaths_per_100k_inhabitants</th>\n",
       "      <th>totalCases_per_100k_inhabitants</th>\n",
       "      <th>deaths_by_totalCases</th>\n",
       "      <th>_source</th>\n",
       "      <th>date</th>\n",
       "      <th>newCases</th>\n",
       "      <th>newDeaths</th>\n",
       "      <th>last_info_date</th>\n",
       "    </tr>\n",
       "  </thead>\n",
       "  <tbody>\n",
       "    <tr>\n",
       "      <th>0</th>\n",
       "      <td>Brazil</td>\n",
       "      <td>GO</td>\n",
       "      <td>Abadia de Goiás/GO</td>\n",
       "      <td>5200050</td>\n",
       "      <td>52001.0</td>\n",
       "      <td>Central</td>\n",
       "      <td>18</td>\n",
       "      <td>1124</td>\n",
       "      <td>200.93771</td>\n",
       "      <td>12547.44363</td>\n",
       "      <td>0.01601</td>\n",
       "      <td>MS</td>\n",
       "      <td>2021-03-29</td>\n",
       "      <td>-1</td>\n",
       "      <td>0</td>\n",
       "      <td>2021-03-29</td>\n",
       "    </tr>\n",
       "    <tr>\n",
       "      <th>1</th>\n",
       "      <td>Brazil</td>\n",
       "      <td>MG</td>\n",
       "      <td>Abadia dos Dourados/MG</td>\n",
       "      <td>3100104</td>\n",
       "      <td>31074.0</td>\n",
       "      <td>Patrocínio / Monte Carmelo</td>\n",
       "      <td>11</td>\n",
       "      <td>324</td>\n",
       "      <td>157.00828</td>\n",
       "      <td>4624.60748</td>\n",
       "      <td>0.03395</td>\n",
       "      <td>MS</td>\n",
       "      <td>2021-03-29</td>\n",
       "      <td>0</td>\n",
       "      <td>0</td>\n",
       "      <td>2021-03-29</td>\n",
       "    </tr>\n",
       "    <tr>\n",
       "      <th>2</th>\n",
       "      <td>Brazil</td>\n",
       "      <td>GO</td>\n",
       "      <td>Abadiânia/GO</td>\n",
       "      <td>5200100</td>\n",
       "      <td>52011.0</td>\n",
       "      <td>Pirineus</td>\n",
       "      <td>20</td>\n",
       "      <td>298</td>\n",
       "      <td>97.74693</td>\n",
       "      <td>1456.42930</td>\n",
       "      <td>0.06711</td>\n",
       "      <td>MS</td>\n",
       "      <td>2021-03-29</td>\n",
       "      <td>0</td>\n",
       "      <td>0</td>\n",
       "      <td>2021-03-29</td>\n",
       "    </tr>\n",
       "    <tr>\n",
       "      <th>3</th>\n",
       "      <td>Brazil</td>\n",
       "      <td>PA</td>\n",
       "      <td>Abaetetuba/PA</td>\n",
       "      <td>1500107</td>\n",
       "      <td>15011.0</td>\n",
       "      <td>Tocantins</td>\n",
       "      <td>134</td>\n",
       "      <td>6077</td>\n",
       "      <td>84.23435</td>\n",
       "      <td>3820.09052</td>\n",
       "      <td>0.02205</td>\n",
       "      <td>MS</td>\n",
       "      <td>2021-03-29</td>\n",
       "      <td>1</td>\n",
       "      <td>1</td>\n",
       "      <td>2021-03-29</td>\n",
       "    </tr>\n",
       "    <tr>\n",
       "      <th>4</th>\n",
       "      <td>Brazil</td>\n",
       "      <td>MG</td>\n",
       "      <td>Abaeté/MG</td>\n",
       "      <td>3100203</td>\n",
       "      <td>31024.0</td>\n",
       "      <td>Sete Lagoas</td>\n",
       "      <td>16</td>\n",
       "      <td>731</td>\n",
       "      <td>68.81720</td>\n",
       "      <td>3144.08602</td>\n",
       "      <td>0.02189</td>\n",
       "      <td>MS</td>\n",
       "      <td>2021-03-29</td>\n",
       "      <td>0</td>\n",
       "      <td>0</td>\n",
       "      <td>2021-03-29</td>\n",
       "    </tr>\n",
       "  </tbody>\n",
       "</table>\n",
       "</div>"
      ],
      "text/plain": [
       "  country state                    city   ibgeID  cod_RegiaoDeSaude  \\\n",
       "0  Brazil    GO      Abadia de Goiás/GO  5200050            52001.0   \n",
       "1  Brazil    MG  Abadia dos Dourados/MG  3100104            31074.0   \n",
       "2  Brazil    GO            Abadiânia/GO  5200100            52011.0   \n",
       "3  Brazil    PA           Abaetetuba/PA  1500107            15011.0   \n",
       "4  Brazil    MG               Abaeté/MG  3100203            31024.0   \n",
       "\n",
       "           name_RegiaoDeSaude  deaths  totalCases  \\\n",
       "0                     Central      18        1124   \n",
       "1  Patrocínio / Monte Carmelo      11         324   \n",
       "2                    Pirineus      20         298   \n",
       "3                   Tocantins     134        6077   \n",
       "4                 Sete Lagoas      16         731   \n",
       "\n",
       "   deaths_per_100k_inhabitants  totalCases_per_100k_inhabitants  \\\n",
       "0                    200.93771                      12547.44363   \n",
       "1                    157.00828                       4624.60748   \n",
       "2                     97.74693                       1456.42930   \n",
       "3                     84.23435                       3820.09052   \n",
       "4                     68.81720                       3144.08602   \n",
       "\n",
       "   deaths_by_totalCases _source        date  newCases  newDeaths  \\\n",
       "0               0.01601      MS  2021-03-29        -1          0   \n",
       "1               0.03395      MS  2021-03-29         0          0   \n",
       "2               0.06711      MS  2021-03-29         0          0   \n",
       "3               0.02205      MS  2021-03-29         1          1   \n",
       "4               0.02189      MS  2021-03-29         0          0   \n",
       "\n",
       "  last_info_date  \n",
       "0     2021-03-29  \n",
       "1     2021-03-29  \n",
       "2     2021-03-29  \n",
       "3     2021-03-29  \n",
       "4     2021-03-29  "
      ]
     },
     "execution_count": 83,
     "metadata": {},
     "output_type": "execute_result"
    }
   ],
   "source": [
    "cases_brazil_cities.head()"
   ]
  },
  {
   "cell_type": "markdown",
   "metadata": {},
   "source": [
    "* ### gps_cities.csv: Coordenadas GPS de cada município."
   ]
  },
  {
   "cell_type": "code",
   "execution_count": 86,
   "metadata": {},
   "outputs": [],
   "source": [
    "gps_cities = pd.read_csv(\"https://raw.githubusercontent.com/wcota/covid19br/master/gps_cities.csv\")"
   ]
  },
  {
   "cell_type": "code",
   "execution_count": 87,
   "metadata": {},
   "outputs": [
    {
     "data": {
      "text/plain": [
       "Index(['ibgeID', 'id', 'lat', 'lon', 'longName'], dtype='object')"
      ]
     },
     "execution_count": 87,
     "metadata": {},
     "output_type": "execute_result"
    }
   ],
   "source": [
    "gps_cities.columns"
   ]
  },
  {
   "cell_type": "code",
   "execution_count": 88,
   "metadata": {},
   "outputs": [
    {
     "data": {
      "text/html": [
       "<div>\n",
       "<style scoped>\n",
       "    .dataframe tbody tr th:only-of-type {\n",
       "        vertical-align: middle;\n",
       "    }\n",
       "\n",
       "    .dataframe tbody tr th {\n",
       "        vertical-align: top;\n",
       "    }\n",
       "\n",
       "    .dataframe thead th {\n",
       "        text-align: right;\n",
       "    }\n",
       "</style>\n",
       "<table border=\"1\" class=\"dataframe\">\n",
       "  <thead>\n",
       "    <tr style=\"text-align: right;\">\n",
       "      <th></th>\n",
       "      <th>ibgeID</th>\n",
       "      <th>id</th>\n",
       "      <th>lat</th>\n",
       "      <th>lon</th>\n",
       "      <th>longName</th>\n",
       "    </tr>\n",
       "  </thead>\n",
       "  <tbody>\n",
       "    <tr>\n",
       "      <th>0</th>\n",
       "      <td>2600054.0</td>\n",
       "      <td>Abreu e Lima/PE</td>\n",
       "      <td>-7.900719</td>\n",
       "      <td>-34.898389</td>\n",
       "      <td>Abreu e Lima, Região Geográgica Imediata do Re...</td>\n",
       "    </tr>\n",
       "    <tr>\n",
       "      <th>1</th>\n",
       "      <td>2600104.0</td>\n",
       "      <td>Afogados da Ingazeira/PE</td>\n",
       "      <td>-7.750429</td>\n",
       "      <td>-37.635638</td>\n",
       "      <td>Afogados da Ingazeira, Microrregião de Pajeú, ...</td>\n",
       "    </tr>\n",
       "    <tr>\n",
       "      <th>2</th>\n",
       "      <td>2600203.0</td>\n",
       "      <td>Afrânio/PE</td>\n",
       "      <td>-8.519892</td>\n",
       "      <td>-41.007020</td>\n",
       "      <td>Afrânio, Região Geográfica Imediata de Petroli...</td>\n",
       "    </tr>\n",
       "    <tr>\n",
       "      <th>3</th>\n",
       "      <td>2600302.0</td>\n",
       "      <td>Agrestina/PE</td>\n",
       "      <td>-8.455802</td>\n",
       "      <td>-35.944266</td>\n",
       "      <td>Agrestina, Região Geográfica Imediata de Carua...</td>\n",
       "    </tr>\n",
       "    <tr>\n",
       "      <th>4</th>\n",
       "      <td>2600401.0</td>\n",
       "      <td>Água Preta/PE</td>\n",
       "      <td>-8.707911</td>\n",
       "      <td>-35.519859</td>\n",
       "      <td>Água Preta, Microrregião da Mata Meridional Pe...</td>\n",
       "    </tr>\n",
       "  </tbody>\n",
       "</table>\n",
       "</div>"
      ],
      "text/plain": [
       "      ibgeID                        id       lat        lon  \\\n",
       "0  2600054.0           Abreu e Lima/PE -7.900719 -34.898389   \n",
       "1  2600104.0  Afogados da Ingazeira/PE -7.750429 -37.635638   \n",
       "2  2600203.0                Afrânio/PE -8.519892 -41.007020   \n",
       "3  2600302.0              Agrestina/PE -8.455802 -35.944266   \n",
       "4  2600401.0             Água Preta/PE -8.707911 -35.519859   \n",
       "\n",
       "                                            longName  \n",
       "0  Abreu e Lima, Região Geográgica Imediata do Re...  \n",
       "1  Afogados da Ingazeira, Microrregião de Pajeú, ...  \n",
       "2  Afrânio, Região Geográfica Imediata de Petroli...  \n",
       "3  Agrestina, Região Geográfica Imediata de Carua...  \n",
       "4  Água Preta, Microrregião da Mata Meridional Pe...  "
      ]
     },
     "execution_count": 88,
     "metadata": {},
     "output_type": "execute_result"
    }
   ],
   "source": [
    "gps_cities.head()"
   ]
  },
  {
   "cell_type": "markdown",
   "metadata": {},
   "source": [
    "## 1. Criação e Ingestão Contínua de dados em Data Lake"
   ]
  },
  {
   "cell_type": "markdown",
   "metadata": {},
   "source": [
    "### Amazon S3 *(Simple Storage Service)*  \n",
    "O [Amazon S3](https://aws.amazon.com/pt/s3/) é o serviço de armazenamento mais utiliado para Data Lakes em todo mundo oferecendo escalabilidade, segurança e performance. O Amazon S3 armazena dados como objetos dentro de **buckets**. É possível controlar permissões de acesso para cada bucket e usuários.\n",
    "\n",
    " Podemos criar um bucket fácilmente via terminal através do AWS CLI:\n",
    " ```\n",
    " aws s3 mb s3://bucket-name\n",
    " ```  \n",
    " \n",
    " \n",
    "  Lembrando que o nome do bucket deve: \n",
    " - ser exlusivo em toda AWS;\n",
    " - conter caracteres minúsculos, números, pontos e traços"
   ]
  },
  {
   "cell_type": "code",
   "execution_count": 91,
   "metadata": {},
   "outputs": [
    {
     "name": "stdout",
     "output_type": "stream",
     "text": [
      "make_bucket: datalake-projeto-covid\n"
     ]
    }
   ],
   "source": [
    "!aws s3 mb s3://datalake-projeto-covid"
   ]
  },
  {
   "cell_type": "markdown",
   "metadata": {},
   "source": [
    "Nossos arquivos serão adicionados automaticamente através da função Lambda que iremos criar. No entanto, o [arquivo](https://github.com/wcota/covid19br/blob/master/gps_cities.csv) com as coordenadas GPS dos município é estático, portanto podemos realizar o [download](https://github.com/wcota/covid19br/blob/master/gps_cities.csv) em nossa máquina local e mover diretamente para o nosso bucket recém-criado: \n",
    "\n",
    " ```\n",
    "aws s3 mv filename s3://bucket-name\n",
    " ```"
   ]
  },
  {
   "cell_type": "code",
   "execution_count": 95,
   "metadata": {},
   "outputs": [
    {
     "name": "stdout",
     "output_type": "stream",
     "text": [
      "Completed 256.0 KiB/961.3 KiB (116.6 KiB/s) with 1 file(s) remaining\n",
      "Completed 512.0 KiB/961.3 KiB (163.6 KiB/s) with 1 file(s) remaining\n",
      "Completed 768.0 KiB/961.3 KiB (190.3 KiB/s) with 1 file(s) remaining\n",
      "Completed 961.3 KiB/961.3 KiB (191.7 KiB/s) with 1 file(s) remaining\n",
      "move: .\\gps_cities.csv to s3://datalake-projeto-covid/gps_cities.csv\n"
     ]
    }
   ],
   "source": [
    "!aws s3 mv gps_cities.csv s3://datalake-projeto-covid"
   ]
  },
  {
   "cell_type": "markdown",
   "metadata": {},
   "source": [
    "Para listar os arquivos em um bucket específico:  \n",
    "```\n",
    "aws s3 ls s3://bucket-name\n",
    "```"
   ]
  },
  {
   "cell_type": "code",
   "execution_count": 97,
   "metadata": {},
   "outputs": [
    {
     "name": "stdout",
     "output_type": "stream",
     "text": [
      "2021-03-29 21:46:39     984398 gps_cities.csv\n"
     ]
    }
   ],
   "source": [
    "!aws s3 ls s3://datalake-projeto-covid"
   ]
  },
  {
   "cell_type": "markdown",
   "metadata": {},
   "source": [
    "### AWS Lambda  \n",
    "[Lambda](https://aws.amazon.com/pt/lambda/) é um serviço da AWS que nos permite executar funções sem provisionar ou gerenciar servidores, precisamos apenas fornecer um arquivo .zip contendo nossa função e as dependências necessárias.  \n",
    "\n",
    "Para criar uma função Lambda:\n",
    "1. Acesse *Funções* em seu serviço *AWS Lambda* no [Console Web](https://aws.amazon.com/pt/console/) e clique em *Criar Função*.  \n",
    "2. Defina as informações básicas como nome da sua função e qual linguagem de programação será utilizada e clique em *Criar Função*.  \n",
    "\n",
    "Antes de prosseguir, precisamos entender alguns conceitos referente ao serviço AWS Lambda, abaixo temos uma visão geral de nossa função recém-criada.\n",
    "![](img/lambda/visao_geral.jpg)  \n",
    "\n",
    "**Gatilho ou Trigger:** Podemos definir um gatilho para que nossa função seja executada sempre que um evento específico ocorrer. Iremos definir posteriormente um gatilho CloudWatch Event para que nossa função seja executada diariamente em um horário específico.  \n",
    "\n",
    "**Layers**: Layers são nossas dependências empacotadas, arquivos .zip contendo as bibliotecas que serão utilizadas pela nossa função. As layers criadas podem ser compartilhadas entre as demais funções lambdas.(https://docs.aws.amazon.com/pt_br/lambda/latest/dg/configuration-layers.html).  \n",
    "\n",
    "**Destinos**: Podemos enviar registros de invocação a um destino quando a função for executada. Ex: Enviar um e-email para o desenvolvedor responsável pela função em caso de falha na execução.\n"
   ]
  },
  {
   "cell_type": "markdown",
   "metadata": {},
   "source": [
    "Estrutura da função lambda:  \n",
    "![](img/lambda/event_context.jpg)  \n",
    "\n",
    "**Manipulador**: O manipulador da função Lambda é o método no código que processa eventos. Quando a função é invocada, o método é executado, por padrão o nome do método é ***lambda_handler***. E o nome do manipulador é derivado do nome_arquivo.nome_método, portanto por padrão o nome do manipulador é **lambda_function.lambda_handler**. Caso desejar um nome diferente para seu arquivo ou método da função, é preciso atualizar o nome do manipulador em *Configurações de tempo de execução (Runtime Settings)*.  \n",
    "![](img/lambda/manipulador.jpg)  \n",
    "\n",
    "Quando a função Lambda é invocada, o método recebe dois argumentos, **event** e **context**:  \n",
    "* **event**: Um evento é um documento JSON que contém os dados a serem processados pela função. Lembra que podemos definir um evento gatilho para nossa função? Então, o argumento event recebe as informações desse evento. Ex: Podemos definir um evento de PutObject no S3 como gatilho, ou seja, sempre que um novo arquivo for adicionado ao bucket especificado, nossa função será invocada. E através do argumento **event** podemos acessar informações como o nome do arquivo adicionado por exemplo.  \n",
    "\n",
    "* **context**: O contexto é um objeto contendo informações referentes a invocação da função, como horário, ambiente de executação, entre outros.  \n",
    "\n",
    "Compreendido alguns conceitos essenciais, podemos escrever nossa função Lambda que será responsável por:  \n",
    "* Coletar as informações diárias da COVID19 disponíveis nos arquivos cases-brazil-cities.csv e cases-brazil-total.csv no repositório [covid19br](https://github.com/wcota/covid19br).  \n",
    "* Converter para o formato Apache Parquet, formato mais otimizado e performático em relação ao CSV. Para mais informações acesse [Apache Parquet vs. CSV Files](https://dzone.com/articles/how-to-be-a-hero-with-powerful-parquet-google-and).  \n",
    "* Por fim, enviar os arquivos diário para o nosso Data Lake em uma folder específica para cada dia.  \n",
    "\n",
    "Substitua o código em lambda_function.py pelo abaixo e clique em ***Deploy***:\n",
    "\n",
    "\n",
    "```\n",
    "import pandas as pd\n",
    "import awswrangler as wr\n",
    "\n",
    "def get_data(bucket, data):\n",
    "    try:\n",
    "        url = f\"https://raw.githubusercontent.com/wcota/covid19br/master/{data}.csv\"\n",
    "        df = pd.read_csv(url)\n",
    "        date = df['date'][0]\n",
    "        wr.s3.to_parquet(df=df, path=f's3://{bucket}/{data}/{date}/{data}.parquet')\n",
    "    except Exception as exc:\n",
    "        raise exc\n",
    "        \n",
    "def lambda_handler(event, context):\n",
    "    get_data('datalake-projeto-covid', 'cases-brazil-total')\n",
    "    get_data('datalake-projeto-covid', 'cases-brazil-cities')\n",
    "```\n",
    "\n",
    "![](img/lambda/lambda-deploy.jpg)"
   ]
  },
  {
   "cell_type": "markdown",
   "metadata": {},
   "source": [
    "Temos duas dependências em nossa função, [awswrangler](https://pypi.org/project/awswrangler/) e [pandas](https://pandas.pydata.org). \n",
    "Como explicado anteriormente, layers são pacotes .zip contendo as dependências necessárias da nossa função. A biblioteca awswrangler já incluí o pandas, portanto iremos empacotar apenas ela.\n",
    "\n",
    "1. Primeiramente, realize o download da awswrangler para Python 3.8 em [Awswrangler Layer](https://github.com/awslabs/aws-data-wrangler/releases/download/2.6.0/awswrangler-layer-2.6.0-py3.8.zip);  \n",
    "2. Faça o upload do arquivo .zip em um bucket no S3, é a recomendação para arquivos maiores do que 10 MB. \n",
    "    ```\n",
    "    aws s3 mv awswrangler-layer-2.6.0-py3.8.zip s3://your-bucket-name/\n",
    "    ```\n",
    "3. Acesse o menu do serviço AWS Lambda, a seguir ***Camadas (Layers)*** e ***Criar uma camada***.\n",
    "4. Especifique o nome da sua função, localização do arquivo .zip e selecione Python 3.8 em *Tempos de Execução* e por fim, ***Criar***.  \n",
    "![](img/lambda/create-layer.jpg)\n",
    "\n",
    "5. Com a Layer criada, precisamos adicioná-la na função. Para isso, acesse a função lambda criada, menu ***Camadas*** e ***Adicionar uma Camada***:\n",
    "![](img/lambda/adicionar-camada.jpg)\n",
    "\n",
    "6. Escolha a opção ***Camadas personalizadas*** e selecione a layer criada:  \n",
    "![](img/lambda/adicionar-camada-2.jpg)\n",
    "\n"
   ]
  },
  {
   "cell_type": "markdown",
   "metadata": {},
   "source": [
    "Por padrão, é alocado 128 MB de memória para execução da função. Portanto, nossa função irá utilizar um pouco mais, acesse o menu ***Configuração > Configuração Geral > Editar*** e define 250 MB de memória:  \n",
    "![](img/lambda/config-memoria.jpg)  \n",
    "\n",
    "Todas configurações realizadas, podemos invocar nossa função manualmente através de um evento de teste:  \n",
    "![](img/lambda/teste-funcao.jpg)\n",
    "\n",
    "Agora basta irmos em nosso Data Lake e verificar que os dados foram coletados e adicionados:  \n",
    "![](img/lambda/dados-datalake.jpg)"
   ]
  },
  {
   "cell_type": "markdown",
   "metadata": {},
   "source": [
    "Para finalizar essa primeira etapa do projeto, queremos que nossa função seja invocada automaticamente, para isso precisamos definir um gatilho. Na visão geral da função, clique em ***Adicionar Gatilho***, nosso gatilho será do tipo ***EventBridge (CloudWatch Events)*** com execução diária programada para 22 horas da noite. É possível definir diferentes configurações de execução através da expressão cron, como minutos, dias da semana, dias do mês, mês. Saiba mais em [Schedule Expressions for Rules](https://docs.aws.amazon.com/AmazonCloudWatch/latest/events/ScheduledEvents.html).  \n",
    "![](img/lambda/gatilho.jpg)  \n",
    "\n",
    "![](img/lambda/gatilho-criado.jpg)"
   ]
  },
  {
   "cell_type": "markdown",
   "metadata": {},
   "source": [
    "## 2. Crawler e análise dos dados utilizando SQL   \n",
    "O AWS Glue é um serviço de ETL *(Extract, Transform and Load)* auto gerenciado, sem a necessidade de provisiona infraestrutura. Iremos utilizá-lo para conectar ao nosso bucket no S3, reconhecer os dados e catalogar em tabelas no Glue Data Catalog, disponibilizando para consultas SQL no Athena e criação do dashboard no QuickSight.  \n",
    "\n",
    "* ### Adicionar Banco de Dados"
   ]
  },
  {
   "cell_type": "markdown",
   "metadata": {},
   "source": [
    "* ### Criar Crawler  \n",
    " [Documentação](https://docs.aws.amazon.com/pt_br/glue/latest/dg/what-is-glue.html)"
   ]
  },
  {
   "cell_type": "markdown",
   "metadata": {},
   "source": [
    "* ### AWS Athena"
   ]
  },
  {
   "cell_type": "markdown",
   "metadata": {},
   "source": [
    "## 3. Criação de dashboard para visualização dos dados  \n",
    "* ## Amazon QuickSight\n"
   ]
  }
 ],
 "metadata": {
  "kernelspec": {
   "display_name": "Python 3",
   "language": "python",
   "name": "python3"
  },
  "language_info": {
   "codemirror_mode": {
    "name": "ipython",
    "version": 3
   },
   "file_extension": ".py",
   "mimetype": "text/x-python",
   "name": "python",
   "nbconvert_exporter": "python",
   "pygments_lexer": "ipython3",
   "version": "3.7.6"
  }
 },
 "nbformat": 4,
 "nbformat_minor": 4
}
